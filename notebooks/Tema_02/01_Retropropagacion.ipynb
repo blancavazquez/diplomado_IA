{
  "cells": [
    {
      "cell_type": "markdown",
      "metadata": {
        "id": "view-in-github",
        "colab_type": "text"
      },
      "source": [
        "<a href=\"https://colab.research.google.com/github/blancavazquez/diplomado_IA/blob/main/notebooks/Tema_02/Retropropagacion.ipynb\" target=\"_parent\"><img src=\"https://colab.research.google.com/assets/colab-badge.svg\" alt=\"Open In Colab\"/></a>"
      ]
    },
    {
      "cell_type": "markdown",
      "source": [
        "# Módulo 11: Introducción a las redes neuronales\n",
        "# Tema 2: Redes densas\n",
        "## Algoritmo de retropropagación de errores\n",
        "\n",
        "El objetivo de esta libreta es construir una red neuronal densa y entrenarla en un problema de clasificación usando el algoritmo de retropropagación de errores"
      ],
      "metadata": {
        "id": "Z0nPi9cVlTqJ"
      }
    },
    {
      "cell_type": "markdown",
      "source": [
        "## Paso 1: Carga de bibliotecas"
      ],
      "metadata": {
        "id": "XsmLP_k5lmBg"
      }
    },
    {
      "cell_type": "code",
      "execution_count": 20,
      "metadata": {
        "id": "xSlnjW4Oi-FP"
      },
      "outputs": [],
      "source": [
        "import numpy as np\n",
        "from math import floor"
      ]
    },
    {
      "cell_type": "markdown",
      "source": [
        "## Paso 2: Construcción de la arquitectura de la red neuronal densa\n",
        "\n",
        "\n",
        "La red neuronal densa que vamos a construir está compuesta de los siguiente elementos:\n",
        "1. Una capa de entrada con 2 variables $x_1$ y $x_2$.\n",
        "2. Una capa oculta con 5 neuronas, donde cada neurona tiene una función de activación sigmoide.\n",
        "3. Una capa de salida con una sola neurona con una función de activación sigmoide."
      ],
      "metadata": {
        "id": "X5dVIvoyl9u2"
      }
    },
    {
      "cell_type": "markdown",
      "metadata": {
        "id": "p02hAdUFZNLL"
      },
      "source": [
        "### 2.1 Construcción de la función de propagación hacia adelante\n",
        "Se define la función que propaga hacia adelante una entrada $\\mathbf{X} \\in \\mathbb{R}^{m \\times d}$. dado que la red está compuesta de 2 capas densas (1 oculta y 1 de salida), tenemos 2 matrices de pesos con sus correspondientes vectores de sesgos $\\{\\mathbf{W}^{\\{1\\}} \\in \\mathbb{R}^{d \\times l}, \\mathbf{b}^{\\{1\\}} \\in \\mathbb{R}^{l \\times 1}\\}$ y $\\{\\mathbf{W}^{\\{2\\}} \\in \\mathbb{R}^{l \\times k}, \\mathbf{b}^{\\{2\\}} \\in \\mathbb{R}^{k \\times 1}\\}$ de la capa oculta y la capa de salida respectivamente. Así, podemos llevar a cabo la propagación hacia adelante en esta red de la siguiente manera:\n",
        "\n",
        "$$\n",
        "\t\\begin{split}\n",
        "\t\t\t\t\\mathbf{A}^{\\{1\\}} & =  \\mathbf{X} \\\\\n",
        "\t\t\t\t\\mathbf{Z}^{\\{2\\}} & =  \\mathbf{A}^{\\{1\\}} \\cdot \\mathbf{W}^{\\{1\\}} + \\mathbf{b}^{\\{1\\}}\\\\\n",
        "\t\t\t\t\\mathbf{A}^{\\{2\\}} & =  \\sigma(\\mathbf{Z}^{\\{2\\}}) \\\\\n",
        "\t\t\t\t\\mathbf{Z}^{\\{3\\}} & =  \\mathbf{A}^{\\{2\\}} \\mathbf{W}^{\\{2\\}}  + \\mathbf{b}^{\\{2\\}}\\\\\n",
        "\t\t\t\t\\mathbf{A}^{\\{3\\}} & =  \\sigma(\\mathbf{Z}^{\\{3\\}})\\\\\n",
        "\t\t\t\t\\mathbf{\\hat{y}} & =  \\mathbf{A}^{\\{3\\}}\n",
        "\t\t\\end{split}\n",
        "  $$"
      ]
    },
    {
      "cell_type": "code",
      "execution_count": 21,
      "metadata": {
        "id": "lAsEk-zajvpX"
      },
      "outputs": [],
      "source": [
        "def propagacion_adelante(X, W1, b1, W2, b2):\n",
        "  #Función que calcula la propagación hacia adelante de la red neuronal densa.\n",
        "  Z2 = X @ W1 + b1 #Capa 2\n",
        "  A2 = sigmoide(Z2) #Salida de la capa 2\n",
        "  Z3 = A2 @ W2 + b2 #Capa 3\n",
        "  y_hat = sigmoide(Z3) #Salida de la capa 3\n",
        "  return Z2, A2, Z3, y_hat"
      ]
    },
    {
      "cell_type": "markdown",
      "source": [
        "### 2.2 Construcción de la función de retropropagación\n",
        "\n",
        "Se define la función de descenso del gradiente por retropropagación de errores. Para calcular el gradiente de la función de pérdida respecto a los pesos y sesgos en cada capa se utiliza el algoritmo de retropropagación. Para nuestro caso, serían las siguientes expresiones:\n",
        "\n",
        "$$\n",
        "\t\\begin{split}\n",
        "\t\t\t\t\\boldsymbol{\\delta}^{\\{3\\}} & =  \\mathbf{\\hat{y}}^{(i)} - \\mathbf{y}^{(i)}\\\\\n",
        "\t\t\t\t\\frac{\\partial ECB(\\mathbf{y}, \\mathbf{\\hat{y}})}{\\partial \\mathbf{W}^{\\{2\\}}} & =  \\mathbf{A}^{\\{2\\}\\top} \\cdot \\boldsymbol{\\delta}^{\\{3\\}}\\\\\n",
        "        \\frac{\\partial ECB(\\mathbf{y}, \\mathbf{\\hat{y}})}{\\partial \\mathbf{b}^{\\{2\\}}} & =  \\sum_{j=1}^{k}\\boldsymbol{\\delta}^{\\{3\\}}_{j, :}\\\\\n",
        "        \\boldsymbol{\\delta}^{\\{2\\}} & =  (\\boldsymbol{\\delta}^{\\{3\\}}\\cdot \\mathbf{W}^{\\{2\\}\\top}) \\odot \\frac{\\partial \\mathbf{A}^{\\{2\\}}}{\\partial \\mathbf{Z}^{\\{2\\}}}\\\\\n",
        "        \\frac{\\partial ECB(\\mathbf{y}, \\mathbf{\\hat{y}})}{\\partial \\mathbf{b}^{\\{1\\}}} & =  \\sum_{j=1}^{l}\\boldsymbol{\\delta}^{\\{2\\}}_{j, :}\\\\\n",
        "        \\frac{\\partial ECB(\\mathbf{y}, \\mathbf{\\hat{y}})}{\\partial \\mathbf{W}^{\\{1\\}}} & =  \\mathbf{A}^{\\{1\\}\\top} \\cdot \\boldsymbol{\\delta}^{\\{2\\}}\\\\\n",
        "\t\t\\end{split}\n",
        "  $$"
      ],
      "metadata": {
        "id": "fTM4V8J9oJYE"
      }
    },
    {
      "cell_type": "code",
      "execution_count": 22,
      "metadata": {
        "id": "1P7i6eLgkJdg"
      },
      "outputs": [],
      "source": [
        "\n",
        "def retropropagacion(X, y, lr = 0.01, t_lote=16, n_epocas = 100, n_ocultas = 10):\n",
        "  #Función para entrenar nuestra red neuronal densa usando descenso por gradiente.\n",
        "\n",
        "  n_ejemplos = X.shape[0] #número de registros / muestras en los datos\n",
        "  n_entradas = X.shape[1] #número de variables de entrada en la 1ra capa.\n",
        "  n_lotes = floor(X.shape[0] / t_lote) # se calcula el número de lotes (si el\n",
        "                                       # tamaño del último lote < t_lote se\n",
        "                                       # ignora\n",
        "\n",
        "  # Inicialización de las matrices:\n",
        "  #Las matrices W1 y W2 se inicializan con valores pequeños\n",
        "  # Mientras que las matrices de b1 y b2 se inicializan con valores de 0s.\n",
        "  W1 = np.sqrt(1.0 / n_entradas) * np.random.randn(n_entradas, n_ocultas)\n",
        "  b1 = np.zeros((1, n_ocultas))\n",
        "\n",
        "  W2 = np.sqrt(1.0 / n_ocultas) * np.random.randn(n_ocultas, 1)\n",
        "  b2 = np.zeros((1, 1))\n",
        "\n",
        "  #Creación de las matrices para guardar resultados\n",
        "  perdidas = np.zeros((n_epocas))\n",
        "  exactitudes = np.zeros((n_epocas))\n",
        "  y_predicha = np.zeros((y.shape))\n",
        "\n",
        "  #El algoritmo se ejecutará hasta alcanzar el número de épocas.\n",
        "  for i in range(n_epocas):\n",
        "    for Xlote,ylote in genera_lotes(X, y, t_lote=t_lote): #generar lotes de datos\n",
        "      Z2, A2, Z3, y_hat = propagacion_adelante(Xlote, W1, b1, W2, b2) #se ejecuta la propagación hacia adelante\n",
        "\n",
        "      # cálculo de gradientes para W2 y b2 por retropropagación\n",
        "      dZ3 = y_hat - ylote\n",
        "      dW2 = A2.T @ dZ3\n",
        "      db2 = dZ3.sum(axis=0)\n",
        "\n",
        "      # cálculo de gradientes para W1 y b1 por retropropagación\n",
        "      dZ2 = (dZ3 @ W2.T) * derivada_sigmoide(Z2) #cálculo de la derivada\n",
        "      dW1 = Xlote.T @ dZ2\n",
        "      db1 = dZ2.sum(axis=0)\n",
        "\n",
        "      ####################################\n",
        "      # Actualización de parámetros\n",
        "      # la actualización debe realizarse de forma simultánea\n",
        "      W2 -= lr * dW2\n",
        "      b2 -= lr * db2\n",
        "      W1 -= lr * dW1\n",
        "      b1 -= lr * db1\n",
        "\n",
        "      # calcula la pérdida en la época\n",
        "      perdidas[i] += entropia_cruzada_binaria(ylote, y_hat)  #Función de pérdida\n",
        "      exactitudes[i] += exactitud(ylote, np.round(y_hat)) #cálculo de la exactitud (accuracy, en inglés)\n",
        "\n",
        "    perdidas[i] /= n_lotes\n",
        "    exactitudes[i] /= n_lotes\n",
        "    print(f'Epoch {i}: Pérdida = {perdidas[i]} Exactitud = {exactitudes[i]}')\n",
        "\n",
        "  return W1, b1, W2, b2, perdidas, exactitudes"
      ]
    },
    {
      "cell_type": "markdown",
      "source": [
        "Se construye una función para generar lotes de los datos de forma aleatoria"
      ],
      "metadata": {
        "id": "mCPNgYmWwP_e"
      }
    },
    {
      "cell_type": "code",
      "source": [
        "def genera_lotes(X, y, t_lote=16):\n",
        "  #Función que genera lotes del conjunto de entrenamiento (batch)\n",
        "  #Los lotes se genera de forma aleatoria\n",
        "  n_lotes = floor(X.shape[0] / t_lote) # se calcula el número de lotes (si el\n",
        "                                       # tamaño del último lote < t_lote se\n",
        "                                       # ignora\n",
        "\n",
        "  perm = np.random.permutation(X.shape[0]) # se genera una permutación aleatoria\n",
        "  Xperm = X[perm] # se reordenan las entradas y\n",
        "  yperm = y[perm] # las entradas usando la permutación\n",
        "  for lote in range(n_lotes): # se tomando t_lote entradas y salidas\n",
        "    Xlote = Xperm[lote * t_lote:(lote + 1) * t_lote]\n",
        "    ylote = yperm[lote * t_lote:(lote + 1) * t_lote]\n",
        "    yield Xlote, ylote"
      ],
      "metadata": {
        "id": "oZsUKc4N0QSp"
      },
      "execution_count": 23,
      "outputs": []
    },
    {
      "cell_type": "markdown",
      "metadata": {
        "id": "-iAUmKI5jNuX"
      },
      "source": [
        "Definición de la función de activación sigmoide\n",
        "\n",
        "$$\n",
        "\\sigma(z) = \\frac{1}{1 + e^{-z}}\n",
        "$$"
      ]
    },
    {
      "cell_type": "code",
      "execution_count": 24,
      "metadata": {
        "id": "WYhT3i68jf6x"
      },
      "outputs": [],
      "source": [
        "def sigmoide(z):\n",
        "  #Función que calcula la sigmoide\n",
        "  return 1 / (1 + np.exp(-z))"
      ]
    },
    {
      "cell_type": "markdown",
      "metadata": {
        "id": "qx6SyrPhWBrw"
      },
      "source": [
        "La función sigmoide tiene una derivada que está expresada en términos de la misma función, esto es,\n",
        "\n",
        "$$\n",
        "\\frac{\\partial \\sigma (z)}{\\partial z} = \\sigma(z) (1 - \\sigma(z))\n",
        "$$"
      ]
    },
    {
      "cell_type": "code",
      "execution_count": 25,
      "metadata": {
        "id": "mJxvxKeAjn24"
      },
      "outputs": [],
      "source": [
        "def derivada_sigmoide(x):\n",
        "  #Función que calcula la deriva de la sigmoide\n",
        "  s = sigmoide(x)\n",
        "  return s * (1.0 - s)"
      ]
    },
    {
      "cell_type": "markdown",
      "metadata": {
        "id": "4WxI8FfLXKHv"
      },
      "source": [
        "Dado que nuestro problema es de tipo clasificación binaria, entonces, para calcular la pérdida se usará la entropía cruzada binaria:\n",
        "\n",
        "$$\n",
        "ECB(\\mathbf{y}, \\mathbf{\\hat{y}})  = -\\sum_{i=1}^N \\left[ y^{(i)} \\log \\hat{y}^{(i)} + (1 - y^{(i)}) \\log (1 - \\hat{y}^{(i)}) \\right]\n",
        "$$"
      ]
    },
    {
      "cell_type": "code",
      "execution_count": 26,
      "metadata": {
        "id": "gDjlmpAQjR3X"
      },
      "outputs": [],
      "source": [
        "def entropia_cruzada_binaria(y, p):\n",
        "  #Función para calcular la entropía cruzada binaria\n",
        "  p[p == 0] = np.nextafter(0., 1.)\n",
        "  p[p == 1] = np.nextafter(1., 0.)\n",
        "  return -(np.log(p[y == 1]).sum() + np.log(1 - p[y == 0]).sum())"
      ]
    },
    {
      "cell_type": "markdown",
      "metadata": {
        "id": "k8nMdK-RYWMS"
      },
      "source": [
        "Para medir el rendimiento del modelo, se calculará la exactitud\n",
        "\n",
        "$$\n",
        "exactitud = \\frac{correctos}{total}\n",
        "$$"
      ]
    },
    {
      "cell_type": "code",
      "execution_count": 27,
      "metadata": {
        "id": "8wxvZq10jIM3"
      },
      "outputs": [],
      "source": [
        "def exactitud(y, y_predicha):\n",
        "  #Función para calcular la exactitud del modeo\n",
        "  return (y == y_predicha).mean() * 100"
      ]
    },
    {
      "cell_type": "markdown",
      "metadata": {
        "id": "hz0OaZtsCCgs"
      },
      "source": [
        "¿Y si inicializamos con ceros?\n",
        "\n",
        "Las matrices de pesos $\\mathbf{W^{\\{1\\}}}$ y $\\mathbf{W^{\\{2\\}}}$ se initializan con valores aleatorios pequeños mientras que los vectores de sesgo $\\mathbf{b^{\\{1\\}}}$ y $\\mathbf{b^{\\{1\\}}}$ con zeros. Examinemos qué pasa si inicializamos las matrices de pesos con zeros. Observa los valores de los pesos en cada época."
      ]
    },
    {
      "cell_type": "code",
      "source": [
        "def retropropagacion_zeros(X, y, lr = 0.01, t_lote=16, n_epocas = 100, n_ocultas = 10):\n",
        "  #Función para entrenar nuestra red neuronal densa usando descenso por gradiente\n",
        "  #Inicializando las matrices de pesos con 0s.\n",
        "\n",
        "  n_ejemplos = X.shape[0] #número de registros / muestras en los datos\n",
        "  n_entradas = X.shape[1] #número de variables de entrada en la 1ra capa.\n",
        "  n_lotes = floor(X.shape[0] / t_lote) # se calcula el número de lotes (si el\n",
        "                                       # tamaño del último lote < t_lote se\n",
        "                                       # ignora\n",
        "\n",
        "  # Inicialización de las matrices de pesos W y V\n",
        "  W1 = np.zeros((n_entradas, n_ocultas))\n",
        "  b1 = np.zeros((1, n_ocultas))\n",
        "\n",
        "  W2 = np.zeros((n_ocultas, 1))\n",
        "  b2 = np.zeros((1, 1))\n",
        "\n",
        "   #Creación de las matrices para guardar resultados\n",
        "  perdidas = np.zeros((n_epocas))\n",
        "  exactitudes = np.zeros((n_epocas))\n",
        "  y_predicha = np.zeros((y.shape))\n",
        "\n",
        "  #El algoritmo se ejecutará hasta alcanzar el número de épocas.\n",
        "  for i in range(n_epocas):\n",
        "    for Xlote,ylote in genera_lotes(X, y, t_lote=t_lote): #generar lotes de datos\n",
        "      Z2, A2, Z3, y_hat = propagacion_adelante(Xlote, W1, b1, W2, b2) #se ejecuta la propagación hacia adelante\n",
        "\n",
        "      # cálculo de gradientes para W2 y b2 por retropropagación\n",
        "      dZ3 = y_hat - ylote\n",
        "      dW2 = A2.T @ dZ3\n",
        "      db2 = dZ3.sum(axis=0)\n",
        "\n",
        "      # cálculo de gradientes para W1 y b1 por retropropagación\n",
        "      dZ2 = (dZ3 @ W2.T) * derivada_sigmoide(Z2)\n",
        "      dW1 = Xlote.T @ dZ2\n",
        "      db1 = dZ2.sum(axis=0)\n",
        "\n",
        "      ####################################\n",
        "      # Actualización de parámetros\n",
        "      # la actualización debe realizarse de forma simultánea\n",
        "      W2 -= lr * dW2\n",
        "      b2 -= lr * db2\n",
        "      W1 -= lr * dW1\n",
        "      b1 -= lr * db1\n",
        "\n",
        "      # calcula la pérdida en la época\n",
        "      perdidas[i] += entropia_cruzada_binaria(ylote, y_hat)  #Función de pérdida\n",
        "      exactitudes[i] += exactitud(ylote, np.round(y_hat)) #cálculo de la exactitud (accuracy, en inglés)\n",
        "\n",
        "    perdidas[i] /= n_lotes\n",
        "    exactitudes[i] /= n_lotes\n",
        "    print(f'Epoch {i}: Pérdida = {perdidas[i]} Exactitud = {exactitudes[i]}')\n",
        "\n",
        "  return W1, b1, W2, b2, perdidas, exactitudes"
      ],
      "metadata": {
        "id": "ZLilQdBb292p"
      },
      "execution_count": 28,
      "outputs": []
    },
    {
      "cell_type": "markdown",
      "metadata": {
        "id": "Nau0HWsrkRxg"
      },
      "source": [
        "## Paso 3: Entrenamiento de la red"
      ]
    },
    {
      "cell_type": "code",
      "source": [
        "#Generamos datos sintéticos\n",
        "from sklearn.datasets import make_classification # Usamos la función de make_classification de sklearn.\n",
        "num_clases = 2 #Número de clases de los datos a generar\n",
        "\n",
        "#Generación de datos\n",
        "X, y = make_classification(n_samples = 1000, #número de datos a generar\n",
        "                           n_features=2,\n",
        "                           n_redundant=0,\n",
        "                           n_informative=2,\n",
        "                           n_clusters_per_class=1,\n",
        "                           class_sep=5)"
      ],
      "metadata": {
        "id": "YjqVuUR7htR9"
      },
      "execution_count": 29,
      "outputs": []
    },
    {
      "cell_type": "code",
      "execution_count": 30,
      "metadata": {
        "colab": {
          "base_uri": "https://localhost:8080/"
        },
        "id": "ijKxVwZ3kbyR",
        "outputId": "5127b480-2b3a-426f-b289-b0dff7799d72"
      },
      "outputs": [
        {
          "output_type": "stream",
          "name": "stdout",
          "text": [
            "Epoch 0: Pérdida = 0.057780955662877574 Exactitud = 99.0\n",
            "Epoch 1: Pérdida = 0.05141931220394727 Exactitud = 99.2\n",
            "Epoch 2: Pérdida = 0.0496871357234434 Exactitud = 99.2\n",
            "Epoch 3: Pérdida = 0.05149360843616763 Exactitud = 99.2\n",
            "Epoch 4: Pérdida = 0.05016627123602431 Exactitud = 99.2\n",
            "Epoch 5: Pérdida = 0.04936318587462909 Exactitud = 99.2\n",
            "Epoch 6: Pérdida = 0.051049118789020215 Exactitud = 99.2\n",
            "Epoch 7: Pérdida = 0.05038523162218926 Exactitud = 99.2\n",
            "Epoch 8: Pérdida = 0.052464577890113655 Exactitud = 99.2\n",
            "Epoch 9: Pérdida = 0.05178407060597921 Exactitud = 99.2\n"
          ]
        }
      ],
      "source": [
        "#Entrenamiento\n",
        "np.random.seed(42) #\n",
        "W1, b1, W2, b2, perdidas, exactitudes = retropropagacion(X,\n",
        "                                                         y,\n",
        "                                                         lr = 0.5,#tasa de aprendizaje\n",
        "                                                         n_epocas = 10, #Número de épocas\n",
        "                                                         n_ocultas = 5, #Número de neuronas en la capa oculta\n",
        "                                                         t_lote=1)"
      ]
    },
    {
      "cell_type": "code",
      "execution_count": 31,
      "metadata": {
        "colab": {
          "base_uri": "https://localhost:8080/",
          "height": 430
        },
        "id": "yglJSF9nkR7k",
        "outputId": "6382dcce-9a49-4c98-a43e-61e2f7a6bb01"
      },
      "outputs": [
        {
          "output_type": "display_data",
          "data": {
            "text/plain": [
              "<Figure size 640x480 with 1 Axes>"
            ],
            "image/png": "[encoded data removed]"
          },
          "metadata": {}
        }
      ],
      "source": [
        "#Se grafica la pérdida y exactitud obtenidos durante el entrenamiento\n",
        "import matplotlib.pyplot as plt\n",
        "plt.plot(np.arange(perdidas.size), perdidas, label='Pérdida', c = 'r')\n",
        "plt.plot(np.arange(exactitudes.size), exactitudes, label='Exactitud')\n",
        "plt.legend()\n",
        "plt.grid(True)\n",
        "plt.show()"
      ]
    },
    {
      "cell_type": "markdown",
      "source": [
        "¿Qué pasa si inicializamos los pesos con ceros."
      ],
      "metadata": {
        "id": "Bu9XpSks3lGx"
      }
    },
    {
      "cell_type": "code",
      "execution_count": 32,
      "metadata": {
        "colab": {
          "base_uri": "https://localhost:8080/"
        },
        "id": "jr1HownICHf9",
        "outputId": "54634b5a-0388-4451-fa9a-c15c7f619cbf"
      },
      "outputs": [
        {
          "output_type": "stream",
          "name": "stdout",
          "text": [
            "Epoch 0: Pérdida = 0.06631386574780247 Exactitud = 98.7\n",
            "Epoch 1: Pérdida = 0.049288388440165865 Exactitud = 99.2\n",
            "Epoch 2: Pérdida = 0.04995860546434956 Exactitud = 99.2\n",
            "Epoch 3: Pérdida = 0.05093246639379863 Exactitud = 99.2\n",
            "Epoch 4: Pérdida = 0.05057600706544201 Exactitud = 99.2\n",
            "Epoch 5: Pérdida = 0.052268062855865514 Exactitud = 99.2\n",
            "Epoch 6: Pérdida = 0.05194655017215594 Exactitud = 99.2\n",
            "Epoch 7: Pérdida = 0.049891403584159284 Exactitud = 99.2\n",
            "Epoch 8: Pérdida = 0.05211728629512119 Exactitud = 99.2\n",
            "Epoch 9: Pérdida = 0.05155314192174085 Exactitud = 99.2\n"
          ]
        }
      ],
      "source": [
        "np.random.seed(42)\n",
        "W1, b1, W2, b2, perdidas, exactitudes = retropropagacion_zeros(X,\n",
        "                                                               y,\n",
        "                                                               lr = 0.5,\n",
        "                                                               n_epocas = 10,\n",
        "                                                               n_ocultas = 5,\n",
        "                                                               t_lote=1)"
      ]
    },
    {
      "cell_type": "code",
      "source": [
        "import matplotlib.pyplot as plt\n",
        "plt.plot(np.arange(perdidas.size), perdidas, label='ECB')\n",
        "plt.plot(np.arange(exactitudes.size), exactitudes, label='Exactitud')\n",
        "plt.legend()\n",
        "plt.grid(True)\n",
        "plt.show()"
      ],
      "metadata": {
        "colab": {
          "base_uri": "https://localhost:8080/",
          "height": 430
        },
        "id": "4CYnQ5VeidBO",
        "outputId": "d13653d5-d357-4c8e-a30c-bb001f1ffb49"
      },
      "execution_count": 33,
      "outputs": [
        {
          "output_type": "display_data",
          "data": {
            "text/plain": [
              "<Figure size 640x480 with 1 Axes>"
            ],
            "image/png": "[encoded data removed]"
          },
          "metadata": {}
        }
      ]
    },
    {
      "cell_type": "markdown",
      "source": [
        "### Ejercicio: Clasificación binaria\n",
        "\n",
        "Construye un clasificador no lineal con los siguientes requerimientos:\n",
        "\n",
        "1. Genera datos sintéticos (usando funciones de numpy) o utiliza alguna base de datos conocida.\n",
        "\n",
        "2. Genera un par de gráficas de análisis de datos (en caso de que los datos sean usando alguna base de datos).\n",
        "\n",
        "3. Divide tus datos en: entrenamiento y prueba (80-20).\n",
        "\n",
        "4. El clasificador debe ser entrendo con la función de retropropagación definida previamente. Prueba con difentes tasas de aprendizaje\n",
        "\n",
        "5. Grafica la pérdida y exactitud obtenidos durante el entrenamiento\n",
        "\n",
        "6. Evalúa el desempeño de tu modelo en tus datos de prueba."
      ],
      "metadata": {
        "id": "0iKJcoSTih7L"
      }
    }
  ],
  "metadata": {
    "colab": {
      "provenance": [],
      "include_colab_link": true
    },
    "kernelspec": {
      "display_name": "Python 3",
      "language": "python",
      "name": "python3"
    },
    "language_info": {
      "codemirror_mode": {
        "name": "ipython",
        "version": 3
      },
      "file_extension": ".py",
      "mimetype": "text/x-python",
      "name": "python",
      "nbconvert_exporter": "python",
      "pygments_lexer": "ipython3",
      "version": "3.6.12"
    }
  },
  "nbformat": 4,
  "nbformat_minor": 0
}
